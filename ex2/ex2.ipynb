{
 "cells": [
  {
   "cell_type": "markdown",
   "metadata": {},
   "source": [
    "1. 实现⼀个⼆叉树类，并使用递归和非递归算法实现前序遍历、中序遍历、后序遍历。"
   ]
  },
  {
   "cell_type": "code",
   "execution_count": 1,
   "metadata": {},
   "outputs": [
    {
     "name": "stdout",
     "output_type": "stream",
     "text": [
      "递归前序遍历:\n",
      "1 2 4 5 3 6 7 \n",
      "递归中序遍历:\n",
      "4 2 5 1 6 3 7 \n",
      "递归后序遍历:\n",
      "4 5 2 6 7 3 1 \n",
      "非递归前序遍历:\n",
      "1 2 4 5 3 6 7 \n",
      "非递归中序遍历:\n",
      "4 2 5 1 6 3 7 \n",
      "非递归后序遍历:\n",
      "4 5 2 6 7 3 1 "
     ]
    }
   ],
   "source": [
    "class TreeNode:\n",
    "    def __init__(self, value):\n",
    "        self.value = value\n",
    "        self.left = None\n",
    "        self.right = None\n",
    "\n",
    "class BinaryTree:\n",
    "    def __init__(self, root=None):\n",
    "        self.root = root\n",
    "\n",
    "    # 递归前序遍历 (根 -> 左 -> 右)\n",
    "    def preorder_recursive(self, node):\n",
    "        if node:\n",
    "            print(node.value, end=\" \")\n",
    "            self.preorder_recursive(node.left)\n",
    "            self.preorder_recursive(node.right)\n",
    "\n",
    "    # 递归中序遍历 (左 -> 根 -> 右)\n",
    "    def inorder_recursive(self, node):\n",
    "        if node:\n",
    "            self.inorder_recursive(node.left)\n",
    "            print(node.value, end=\" \")\n",
    "            self.inorder_recursive(node.right)\n",
    "\n",
    "    # 递归后序遍历 (左 -> 右 -> 根)\n",
    "    def postorder_recursive(self, node):\n",
    "        if node:\n",
    "            self.postorder_recursive(node.left)\n",
    "            self.postorder_recursive(node.right)\n",
    "            print(node.value, end=\" \")\n",
    "\n",
    "    # 非递归前序遍历 (使用栈)\n",
    "    def preorder_iterative(self):\n",
    "        if not self.root:\n",
    "            return\n",
    "        stack = [self.root]\n",
    "        while stack:\n",
    "            node = stack.pop()\n",
    "            print(node.value, end=\" \")\n",
    "            if node.right:\n",
    "                stack.append(node.right)\n",
    "            if node.left:\n",
    "                stack.append(node.left)\n",
    "\n",
    "    # 非递归中序遍历 (使用栈)\n",
    "    def inorder_iterative(self):\n",
    "        stack, node = [], self.root\n",
    "        while stack or node:\n",
    "            while node:\n",
    "                stack.append(node)\n",
    "                node = node.left\n",
    "            node = stack.pop()\n",
    "            print(node.value, end=\" \")\n",
    "            node = node.right\n",
    "\n",
    "    # 非递归后序遍历 (使用栈)\n",
    "    def postorder_iterative(self):\n",
    "        if not self.root:\n",
    "            return\n",
    "        stack, result = [self.root], []\n",
    "        while stack:\n",
    "            node = stack.pop()\n",
    "            result.append(node.value)\n",
    "            if node.left:\n",
    "                stack.append(node.left)\n",
    "            if node.right:\n",
    "                stack.append(node.right)\n",
    "        while result:\n",
    "            print(result.pop(), end=\" \")\n",
    "\n",
    "# 创建二叉树\n",
    "# .... 1 ....\n",
    "# ...2....3...\n",
    "# .4..5..6..7...\n",
    "root = TreeNode(1)\n",
    "root.left = TreeNode(2)\n",
    "root.right = TreeNode(3)\n",
    "root.left.left = TreeNode(4)\n",
    "root.left.right = TreeNode(5)\n",
    "root.right.left = TreeNode(6)\n",
    "root.right.right = TreeNode(7)\n",
    "\n",
    "tree = BinaryTree(root)\n",
    "\n",
    "# 测试递归遍历\n",
    "print(\"递归前序遍历:\")\n",
    "tree.preorder_recursive(tree.root)\n",
    "print(\"\\n递归中序遍历:\")\n",
    "tree.inorder_recursive(tree.root)\n",
    "print(\"\\n递归后序遍历:\")\n",
    "tree.postorder_recursive(tree.root)\n",
    "\n",
    "# 测试非递归遍历\n",
    "print(\"\\n非递归前序遍历:\")\n",
    "tree.preorder_iterative()\n",
    "print(\"\\n非递归中序遍历:\")\n",
    "tree.inorder_iterative()\n",
    "print(\"\\n非递归后序遍历:\")\n",
    "tree.postorder_iterative()"
   ]
  },
  {
   "cell_type": "markdown",
   "metadata": {},
   "source": [
    "2. 找出⼀个字符串中是否含有连续的6个数字（正则表达式）"
   ]
  },
  {
   "cell_type": "code",
   "execution_count": 2,
   "metadata": {},
   "outputs": [
    {
     "name": "stdout",
     "output_type": "stream",
     "text": [
      "True\n",
      "False\n",
      "True\n"
     ]
    }
   ],
   "source": [
    "import re\n",
    "\n",
    "def contains_six_consecutive_digits(s):\n",
    "    # 定义一个正则表达式模式，匹配连续的6个数字\n",
    "    pattern = r'\\d{6}'\n",
    "    \n",
    "    # 使用 re.search 查找是否存在匹配项\n",
    "    if re.search(pattern, s):\n",
    "        return True\n",
    "    else:\n",
    "        return False\n",
    "\n",
    "# 测试字符串\n",
    "test_str1 = \"The order number is 12345678.\"\n",
    "test_str2 = \"This string contains 123abc456 but no 6 consecutive digits.\"\n",
    "test_str3 = \"My phone number is 987654.\"\n",
    "\n",
    "# 测试函数\n",
    "print(contains_six_consecutive_digits(test_str1))  # True\n",
    "print(contains_six_consecutive_digits(test_str2))  # False\n",
    "print(contains_six_consecutive_digits(test_str3))  # True"
   ]
  },
  {
   "cell_type": "markdown",
   "metadata": {},
   "source": [
    "3. 验证输⼊的字符串是否为⼀个合法的⽤户密码，合法的⽤户密码⻓度在6~18之间，且只能包含英⽂（⼤⼩写均可）和数字。"
   ]
  },
  {
   "cell_type": "code",
   "execution_count": 3,
   "metadata": {},
   "outputs": [
    {
     "name": "stdout",
     "output_type": "stream",
     "text": [
      "True\n",
      "False\n",
      "False\n",
      "True\n"
     ]
    }
   ],
   "source": [
    "import re\n",
    "\n",
    "def is_valid_password(password):\n",
    "    # 定义正则表达式：6到18个字符，且只能是英文字母或数字\n",
    "    pattern = r'^[a-zA-Z0-9]{6,18}$'\n",
    "    \n",
    "    # 使用 re.match 来匹配整个字符串\n",
    "    if re.match(pattern, password):\n",
    "        return True\n",
    "    else:\n",
    "        return False\n",
    "\n",
    "# 测试用例\n",
    "test_password1 = \"Password123\"\n",
    "test_password2 = \"Pass!\"\n",
    "test_password3 = \"abc1234567890123456\"  # 超过18字符\n",
    "test_password4 = \"ValidPass123\"\n",
    "\n",
    "# 测试函数\n",
    "print(is_valid_password(test_password1))  # True\n",
    "print(is_valid_password(test_password2))  # False\n",
    "print(is_valid_password(test_password3))  # False\n",
    "print(is_valid_password(test_password4))  # True"
   ]
  }
 ],
 "metadata": {
  "kernelspec": {
   "display_name": "py38",
   "language": "python",
   "name": "python3"
  },
  "language_info": {
   "codemirror_mode": {
    "name": "ipython",
    "version": 3
   },
   "file_extension": ".py",
   "mimetype": "text/x-python",
   "name": "python",
   "nbconvert_exporter": "python",
   "pygments_lexer": "ipython3",
   "version": "3.8.19"
  }
 },
 "nbformat": 4,
 "nbformat_minor": 2
}
