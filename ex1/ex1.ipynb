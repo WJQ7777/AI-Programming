{
 "cells": [
  {
   "cell_type": "markdown",
   "metadata": {},
   "source": [
    "1. 随机生成一个包含 100个数字的 list，将其写入文件，然后从该文件中读取出来文件内容，将其排序后写入另一个文件。"
   ]
  },
  {
   "cell_type": "code",
   "execution_count": 8,
   "metadata": {},
   "outputs": [],
   "source": [
    "import random\n",
    "\n",
    "numbers = [random.randint(0, 100) for _ in range(100)]\n",
    "\n",
    "#写入文件\n",
    "with open('random_numbers.txt', 'w') as file:\n",
    "    for number in numbers:\n",
    "        file.write(f\"{number}\\n\")\n",
    "\n",
    "#从文件中读取\n",
    "with open('random_numbers.txt', 'r') as file:\n",
    "    numbers_from_file = [int(line.strip()) for line in file]\n",
    "\n",
    "#调用排序函数进行排序\n",
    "sorted_numbers = sorted(numbers_from_file)\n",
    "\n",
    "#写入新文件\n",
    "with open(\"sorted_numbers.txt\", 'w') as file:\n",
    "    for number in sorted_numbers:\n",
    "        file.write(f\"{number}\\n\")\n"
   ]
  },
  {
   "cell_type": "markdown",
   "metadata": {},
   "source": [
    "2. 给定一个文件 text，统计其中每个单词出现的次数，并对其进行排序，将单词及对应的词频输出到文件中。"
   ]
  },
  {
   "cell_type": "code",
   "execution_count": 11,
   "metadata": {},
   "outputs": [],
   "source": [
    "import re\n",
    "from collections import Counter\n",
    "\n",
    "#打开文件\n",
    "with open(\"text.txt\", \"r\", encoding='utf-8') as file:\n",
    "    text = file.read()\n",
    "\n",
    "#计算词频，返回字典形式\n",
    "words = re.findall(r'\\b\\w+\\b', text.lower())\n",
    "word_counts = Counter(words)\n",
    "\n",
    "#对词频进行降序排列,这里需要对字典进行排序,传入的是字典对应的tuple,返回的也是tuple\n",
    "sorted_word_counts = sorted(word_counts.items(), key=lambda item:item[1], reverse=True)\n",
    "\n",
    "#写入文件\n",
    "with open(\"frequency.txt\", 'w', encoding='utf-8') as file:\n",
    "        for word, frequency in sorted_word_counts:\n",
    "            file.write(f\"{word}: {frequency}\\n\")"
   ]
  },
  {
   "cell_type": "markdown",
   "metadata": {},
   "source": [
    "3. 盛水最多的容器"
   ]
  },
  {
   "cell_type": "code",
   "execution_count": 4,
   "metadata": {},
   "outputs": [
    {
     "name": "stdout",
     "output_type": "stream",
     "text": [
      "49\n"
     ]
    }
   ],
   "source": [
    "# 利用双指针进行求解\n",
    "# 首先将左右指针分别置于左右两端(0,len - 1)\n",
    "# 由短板效应可以证明,每次向内移动较大的指针得到的结果一定小于等于当前结果\n",
    "# 故每次向内移动较小的指针,不断更新最大值即可\n",
    "def solution(height: list) -> int:\n",
    "    l, r = 0, len(height)-1\n",
    "    ans = 0\n",
    "    while l < r:\n",
    "        area = min(height[l], height[r]) * (r - l)\n",
    "        ans = max(ans, area)\n",
    "        if height[l] <= height[r]:\n",
    "            l += 1\n",
    "        else:\n",
    "            r -= 1\n",
    "    return ans\n",
    "\n",
    "input = [1,8,6,2,5,4,8,3,7]\n",
    "print(solution(input))"
   ]
  },
  {
   "cell_type": "markdown",
   "metadata": {},
   "source": [
    "4. 二进制之和"
   ]
  },
  {
   "cell_type": "code",
   "execution_count": 5,
   "metadata": {},
   "outputs": [
    {
     "name": "stdout",
     "output_type": "stream",
     "text": [
      "11 + 1 = 100\n"
     ]
    }
   ],
   "source": [
    "def add_binary(bin1: str, bin2: str) -> str:\n",
    "    # 将二进制字符串转换为十进制整数，进行加法运算\n",
    "    sum_decimal = int(bin1, 2) + int(bin2, 2)\n",
    "    \n",
    "    # 将结果转换为二进制字符串并去掉前缀 '0b'\n",
    "    return bin(sum_decimal)[2:]\n",
    "\n",
    "# 测试输入\n",
    "bin1 = \"11\"\n",
    "bin2 = \"1\"\n",
    "result = add_binary(bin1, bin2)\n",
    "print(f\"{bin1} + {bin2} = {result}\")"
   ]
  },
  {
   "cell_type": "markdown",
   "metadata": {},
   "source": [
    "5. 实现排序算法——冒泡排序、插入排序、快速排序、归并排序、堆排序"
   ]
  },
  {
   "cell_type": "code",
   "execution_count": null,
   "metadata": {},
   "outputs": [],
   "source": [
    "def bubble_sort(arr):\n",
    "    n = len(arr)\n",
    "    for i in range(0, n):  # 表示排序的轮次\n",
    "        is_swap = False  # 表示是否在该轮次有交换操作\n",
    "        for j in range(1, n-i):\n",
    "            if arr[j] < arr[j-1]:\n",
    "                arr[j], arr[j-1] = arr[j-1], arr[j]\n",
    "                is_swap = True\n",
    "        if not is_swap:  # 若是该轮次没有交换操作，说明所有元素已经排好序了\n",
    "            return arr\n",
    "\n",
    "def insertion_sort(arr):\n",
    "    n = len(arr)\n",
    "    for i in range(1, n):\n",
    "        tmp = arr[i]   # 将当前要比较的未排序元素存到临时变量tmp，方便后移\n",
    "        j = i - 1\n",
    "        while j >= 0 and arr[j] > tmp:   # 从后往前遍历已排序元素，若是大于tmp，就往后移一位，否则，就将tmp插到该元素后面\n",
    "            arr[j+1] = arr[j]\n",
    "            j -= 1\n",
    "        arr[j+1] = tmp \n",
    "    return arr\n",
    "\n",
    "def quickSort(arr, low, high):\n",
    "    if low < high:    # 当子数组长度为1时，停止递归\n",
    "        pivot = arr[low]  # 基准值可选数组首个/末尾元素或随机选取\n",
    "        left, right = low, high\n",
    "        # 遍历数组，将小于基准值的元素放到左边，大于的放右边\n",
    "        while low < high:\n",
    "            while low < high and arr[high] > pivot:\n",
    "                high -= 1\n",
    "            arr[low] = arr[high]\n",
    "            while low < high and arr[low] <= pivot:\n",
    "                low += 1\n",
    "            arr[high] = arr[low]\n",
    "        arr[low] = pivot\n",
    "        # 递归地对基准左右两边的子数组分别重复上述操作，直到子数组长度为1为止\n",
    "        quickSort(arr, left, low-1)\n",
    "        quickSort(arr, low+1, right)\n",
    "    return arr\n",
    "\n",
    "def merge_sort(arr):\n",
    "    # 先将数组不断对半拆分成更小的数组，直到每个数组只剩下一个元素\n",
    "    if len(arr) > 1:\n",
    "        mid = len(arr) // 2\n",
    "        left = arr[:mid]\n",
    "        right = arr[mid:]\n",
    "        merge_sort(left)\n",
    "        merge_sort(right)\n",
    " \n",
    "        # 然后将数组两两合并，此时需要合并的数组是有序的。\n",
    "        i = j = k = 0\n",
    "        while i < len(left) and j < len(right):\n",
    "            if left[i] < right[j]:\n",
    "                arr[k] = left[i]\n",
    "                i += 1\n",
    "            else:\n",
    "                arr[k] = right[j]\n",
    "                j += 1\n",
    "            k += 1\n",
    "        # 合并后，如果有剩余的元素，需要将其添加到数组后面\n",
    "        while i < len(left):\n",
    "            arr[k] = left[i]\n",
    "            i += 1\n",
    "            k += 1\n",
    "        while j < len(right):\n",
    "            arr[k] = right[j]\n",
    "            j += 1\n",
    "            k += 1\n",
    "    return arr\n",
    "\n",
    "def heapify(arr, i, n):  # 建立大顶堆，即每个节点大于等于其子节点值\n",
    "    dad = i\n",
    "    son = 2 * i + 1\n",
    "    while son < n:\n",
    "        if son+1 < n and arr[son+1] > arr[son]:  # 找出左右子节点中较大的节点\n",
    "            son += 1\n",
    "        if arr[son] <= arr[dad]:  # 如果子节点小于父节点，则跳出循环\n",
    "            break\n",
    "        arr[son], arr[dad] = arr[dad], arr[son]  # 否则交换父子节点，并继续向下比较\n",
    "        dad = son\n",
    "        son = 2 * dad + 1\n",
    " \n",
    "def heap_sort(arr):\n",
    "    n = len(arr)\n",
    "    for i in range(n//2-1, -1, -1):  # 从最后一个非叶子节点开始，建立大顶堆\n",
    "        heapify(arr, i, n)\n",
    "    # 将堆顶元素即arr[0]与最后一个元素交换，然后将堆的大小减一，并对新的堆顶重新建立大顶堆\n",
    "    for i in range(n-1, 0, -1):\n",
    "        arr[0], arr[i] = arr[i], arr[0]\n",
    "        heapify(arr, 0, i)\n",
    "    return arr"
   ]
  },
  {
   "cell_type": "code",
   "execution_count": null,
   "metadata": {},
   "outputs": [],
   "source": [
    "import random\n",
    "\n",
    "random_number = [random.randint(0, 100) for _ in range(10)]\n"
   ]
  }
 ],
 "metadata": {
  "kernelspec": {
   "display_name": "py38",
   "language": "python",
   "name": "python3"
  },
  "language_info": {
   "codemirror_mode": {
    "name": "ipython",
    "version": 3
   },
   "file_extension": ".py",
   "mimetype": "text/x-python",
   "name": "python",
   "nbconvert_exporter": "python",
   "pygments_lexer": "ipython3",
   "version": "3.8.19"
  }
 },
 "nbformat": 4,
 "nbformat_minor": 2
}
